{
  "nbformat": 4,
  "nbformat_minor": 0,
  "metadata": {
    "colab": {
      "name": "PART07 Decision Tree.ipynb",
      "provenance": [],
      "authorship_tag": "ABX9TyOytSMrnFrmab6lAKzHdHFM",
      "include_colab_link": true
    },
    "kernelspec": {
      "name": "python3",
      "display_name": "Python 3"
    },
    "language_info": {
      "name": "python"
    }
  },
  "cells": [
    {
      "cell_type": "markdown",
      "metadata": {
        "id": "view-in-github",
        "colab_type": "text"
      },
      "source": [
        "<a href=\"https://colab.research.google.com/github/choeuneheol/honrongmachine/blob/main/PART07_Decision_Tree.ipynb\" target=\"_parent\"><img src=\"https://colab.research.google.com/assets/colab-badge.svg\" alt=\"Open In Colab\"/></a>"
      ]
    },
    {
      "cell_type": "code",
      "execution_count": 1,
      "metadata": {
        "id": "r7htloATbUXS"
      },
      "outputs": [],
      "source": [
        "#-*- coding: utf-8 -*-\n",
        "\n",
        "### 기본 라이브러리 불러오기\n",
        "import pandas as pd\n",
        "import numpy as np"
      ]
    },
    {
      "cell_type": "markdown",
      "source": [
        "###[Step 1] 데이터 준비/기본 설정"
      ],
      "metadata": {
        "id": "_Q32aTj0oBNB"
      }
    },
    {
      "cell_type": "code",
      "source": [
        "# Breast Cancer 데이터셋 가져오기 (출처 : UCI ML Repository)\n",
        "uci_path = 'https://archive.ics.uci.edu/ml/machine-learning-databases/breast-cancer-wisconsin/breast-cancer-wisconsin.data'\n",
        "df = pd.read_csv(uci_path, header=None)\n",
        "\n",
        "# 열 이름 지정\n",
        "df.columns = ['id','clump','cell_size','cell_shape','adhesion','epithlial',\n",
        "              'bare_nuclei','chromatin','normal_nucleoli','mitoses','class']\n",
        "\n",
        "#Ipython 디스플레이 설정 - 출력할 열의 개수 한도 늘리기\n",
        "pd.set_option('display.max_columns',15)"
      ],
      "metadata": {
        "id": "5yMsgzE5cMjh"
      },
      "execution_count": 2,
      "outputs": []
    },
    {
      "cell_type": "markdown",
      "source": [
        "###[Step 2] 데이터 탐색"
      ],
      "metadata": {
        "id": "10FNXzh0oI9t"
      }
    },
    {
      "cell_type": "code",
      "source": [
        "# 데이터 살펴보기\n",
        "print(df.head())\n",
        "print('\\n')\n",
        "\n",
        "# 데이터 자료형 확인\n",
        "print(df.info())\n",
        "print('\\n')\n",
        "\n",
        "# 데이터 통계 요약 정보 확인\n",
        "print(df.describe())"
      ],
      "metadata": {
        "colab": {
          "base_uri": "https://localhost:8080/"
        },
        "id": "LrZAxow3d1gW",
        "outputId": "aba2cd6b-95bd-4a2e-be99-1d0a3ce5ba50"
      },
      "execution_count": 3,
      "outputs": [
        {
          "output_type": "stream",
          "name": "stdout",
          "text": [
            "        id  clump  cell_size  cell_shape  adhesion  epithlial bare_nuclei  \\\n",
            "0  1000025      5          1           1         1          2           1   \n",
            "1  1002945      5          4           4         5          7          10   \n",
            "2  1015425      3          1           1         1          2           2   \n",
            "3  1016277      6          8           8         1          3           4   \n",
            "4  1017023      4          1           1         3          2           1   \n",
            "\n",
            "   chromatin  normal_nucleoli  mitoses  class  \n",
            "0          3                1        1      2  \n",
            "1          3                2        1      2  \n",
            "2          3                1        1      2  \n",
            "3          3                7        1      2  \n",
            "4          3                1        1      2  \n",
            "\n",
            "\n",
            "<class 'pandas.core.frame.DataFrame'>\n",
            "RangeIndex: 699 entries, 0 to 698\n",
            "Data columns (total 11 columns):\n",
            " #   Column           Non-Null Count  Dtype \n",
            "---  ------           --------------  ----- \n",
            " 0   id               699 non-null    int64 \n",
            " 1   clump            699 non-null    int64 \n",
            " 2   cell_size        699 non-null    int64 \n",
            " 3   cell_shape       699 non-null    int64 \n",
            " 4   adhesion         699 non-null    int64 \n",
            " 5   epithlial        699 non-null    int64 \n",
            " 6   bare_nuclei      699 non-null    object\n",
            " 7   chromatin        699 non-null    int64 \n",
            " 8   normal_nucleoli  699 non-null    int64 \n",
            " 9   mitoses          699 non-null    int64 \n",
            " 10  class            699 non-null    int64 \n",
            "dtypes: int64(10), object(1)\n",
            "memory usage: 60.2+ KB\n",
            "None\n",
            "\n",
            "\n",
            "                 id       clump   cell_size  cell_shape    adhesion  \\\n",
            "count  6.990000e+02  699.000000  699.000000  699.000000  699.000000   \n",
            "mean   1.071704e+06    4.417740    3.134478    3.207439    2.806867   \n",
            "std    6.170957e+05    2.815741    3.051459    2.971913    2.855379   \n",
            "min    6.163400e+04    1.000000    1.000000    1.000000    1.000000   \n",
            "25%    8.706885e+05    2.000000    1.000000    1.000000    1.000000   \n",
            "50%    1.171710e+06    4.000000    1.000000    1.000000    1.000000   \n",
            "75%    1.238298e+06    6.000000    5.000000    5.000000    4.000000   \n",
            "max    1.345435e+07   10.000000   10.000000   10.000000   10.000000   \n",
            "\n",
            "        epithlial   chromatin  normal_nucleoli     mitoses       class  \n",
            "count  699.000000  699.000000       699.000000  699.000000  699.000000  \n",
            "mean     3.216023    3.437768         2.866953    1.589413    2.689557  \n",
            "std      2.214300    2.438364         3.053634    1.715078    0.951273  \n",
            "min      1.000000    1.000000         1.000000    1.000000    2.000000  \n",
            "25%      2.000000    2.000000         1.000000    1.000000    2.000000  \n",
            "50%      2.000000    3.000000         1.000000    1.000000    2.000000  \n",
            "75%      4.000000    5.000000         4.000000    1.000000    4.000000  \n",
            "max     10.000000   10.000000        10.000000   10.000000    4.000000  \n"
          ]
        }
      ]
    },
    {
      "cell_type": "code",
      "source": [
        "#bare_nuclei 열의 자료형 변경(문자열 -> 숫자)\n",
        "print(df['bare_nuclei'].unique())\n",
        "print('\\n')                                                 # bare_nuclei 열의 고유값 확인\n",
        "\n",
        "df['bare_nuclei'].replace('?', np.nan, inplace=True)        # '?'을 np.nan으로 변경\n",
        "df.dropna(subset=['bare_nuclei'], axis=0, inplace=True)     # 누락 데이터 행 삭제\n",
        "df['bare_nuclei'] = df['bare_nuclei'].astype('int')         # 문자열을 정수형으로 변환\n",
        "\n",
        "print(df.describe())                                        # 데이터 통계 요약 정보 확인"
      ],
      "metadata": {
        "colab": {
          "base_uri": "https://localhost:8080/"
        },
        "id": "7T8Po0yIeNzH",
        "outputId": "cb3e95d7-8ac8-4147-88e1-7e0f186ef80e"
      },
      "execution_count": 5,
      "outputs": [
        {
          "output_type": "stream",
          "name": "stdout",
          "text": [
            "['1' '10' '2' '4' '3' '9' '7' '?' '5' '8' '6']\n",
            "\n",
            "\n",
            "                 id       clump   cell_size  cell_shape    adhesion  \\\n",
            "count  6.830000e+02  683.000000  683.000000  683.000000  683.000000   \n",
            "mean   1.076720e+06    4.442167    3.150805    3.215227    2.830161   \n",
            "std    6.206440e+05    2.820761    3.065145    2.988581    2.864562   \n",
            "min    6.337500e+04    1.000000    1.000000    1.000000    1.000000   \n",
            "25%    8.776170e+05    2.000000    1.000000    1.000000    1.000000   \n",
            "50%    1.171795e+06    4.000000    1.000000    1.000000    1.000000   \n",
            "75%    1.238705e+06    6.000000    5.000000    5.000000    4.000000   \n",
            "max    1.345435e+07   10.000000   10.000000   10.000000   10.000000   \n",
            "\n",
            "        epithlial  bare_nuclei   chromatin  normal_nucleoli     mitoses  \\\n",
            "count  683.000000   683.000000  683.000000       683.000000  683.000000   \n",
            "mean     3.234261     3.544656    3.445095         2.869693    1.603221   \n",
            "std      2.223085     3.643857    2.449697         3.052666    1.732674   \n",
            "min      1.000000     1.000000    1.000000         1.000000    1.000000   \n",
            "25%      2.000000     1.000000    2.000000         1.000000    1.000000   \n",
            "50%      2.000000     1.000000    3.000000         1.000000    1.000000   \n",
            "75%      4.000000     6.000000    5.000000         4.000000    1.000000   \n",
            "max     10.000000    10.000000   10.000000        10.000000   10.000000   \n",
            "\n",
            "            class  \n",
            "count  683.000000  \n",
            "mean     2.699854  \n",
            "std      0.954592  \n",
            "min      2.000000  \n",
            "25%      2.000000  \n",
            "50%      2.000000  \n",
            "75%      4.000000  \n",
            "max      4.000000  \n"
          ]
        }
      ]
    },
    {
      "cell_type": "markdown",
      "source": [
        "###[Step 3] 데이터셋 구분 - 훈련용(train data) / 검증용(test data)"
      ],
      "metadata": {
        "id": "zDUbADdpn0qT"
      }
    },
    {
      "cell_type": "code",
      "source": [
        "# 속성(변수) 선택\n",
        "x=df[['clump','cell_size','cell_shape','adhesion','epithlial',\n",
        "      'bare_nuclei','chromatin','normal_nucleoli','mitoses']]\n",
        "y=df['class']\n",
        "\n",
        "# 설명 변수 데이터 정규화\n",
        "from sklearn import preprocessing\n",
        "x= preprocessing.StandardScaler().fit(x).transform(x)\n",
        "\n",
        "#train data와 test data로 구분(7:3 비율)\n",
        "from sklearn.model_selection import train_test_split\n",
        "x_train, x_test, y_train, y_test = train_test_split(x,y, test_size=0.3, random_state=10)\n",
        "\n",
        "print('train data 개수:', x_train.shape)\n",
        "print('train data 개수:', x_test.shape)"
      ],
      "metadata": {
        "colab": {
          "base_uri": "https://localhost:8080/"
        },
        "id": "fMMhdPm4oiNh",
        "outputId": "a2b4c026-f96f-4bdb-f29b-02ccc1283826"
      },
      "execution_count": 10,
      "outputs": [
        {
          "output_type": "stream",
          "name": "stdout",
          "text": [
            "train data 개수: (478, 9)\n",
            "train data 개수: (205, 9)\n"
          ]
        }
      ]
    },
    {
      "cell_type": "markdown",
      "source": [
        "###[Step 4] Decision Tree 분류 모형 - sklearn 사용"
      ],
      "metadata": {
        "id": "a6wePHg8fmVY"
      }
    },
    {
      "cell_type": "code",
      "source": [
        "# sklearn 라이브러리에서 Decision Tree 분류 모형 가져오기\n",
        "from sklearn import tree\n",
        "\n",
        "# 모형 객체 생성(criterion='entropy' 적용)\n",
        "tree_model = tree.DecisionTreeClassifier(criterion='entropy', max_depth=5)\n",
        "\n",
        "# trainn data 가지고 모형 학습\n",
        "tree_model.fit(x_train, y_train)\n",
        "\n",
        "# test data를 가지고 y_hat 예측(분류)\n",
        "y_hat = tree_model.predict(x_test)\n",
        "\n",
        "print(y_hat[0:10])\n",
        "print(y_test.values[0:10])\n",
        "\n",
        "# 모형 성능 평가 - Confusion Matrix 계산\n",
        "from sklearn import metrics\n",
        "tree_matrix = metrics.classification_report(y_test, y_hat)\n",
        "print(tree_matrix)\n",
        "print('\\n')\n",
        "\n",
        "# 모형 성능 평가 - 평가 지표 계산\n",
        "tree_report = metrics.classification_report(y_test, y_hat)\n",
        "print(tree_report)"
      ],
      "metadata": {
        "colab": {
          "base_uri": "https://localhost:8080/"
        },
        "id": "Xc32a57-gLLG",
        "outputId": "5fb93e81-4f81-4e60-c4fc-b06a4e03de91"
      },
      "execution_count": 12,
      "outputs": [
        {
          "output_type": "stream",
          "name": "stdout",
          "text": [
            "[4 4 4 4 4 4 2 2 4 4]\n",
            "[4 4 4 4 4 4 2 2 4 4]\n",
            "              precision    recall  f1-score   support\n",
            "\n",
            "           2       0.98      0.97      0.98       131\n",
            "           4       0.95      0.97      0.96        74\n",
            "\n",
            "    accuracy                           0.97       205\n",
            "   macro avg       0.97      0.97      0.97       205\n",
            "weighted avg       0.97      0.97      0.97       205\n",
            "\n",
            "\n",
            "\n",
            "              precision    recall  f1-score   support\n",
            "\n",
            "           2       0.98      0.97      0.98       131\n",
            "           4       0.95      0.97      0.96        74\n",
            "\n",
            "    accuracy                           0.97       205\n",
            "   macro avg       0.97      0.97      0.97       205\n",
            "weighted avg       0.97      0.97      0.97       205\n",
            "\n"
          ]
        }
      ]
    },
    {
      "cell_type": "code",
      "source": [
        "# 모형 성능 평가 - Confusion Matrix 계산\n",
        "from sklearn import metrics\n",
        "tree_matrix = metrics.confusion_matrix(y_test, y_hat)\n",
        "print(tree_matrix)\n",
        "print('\\n')\n",
        "\n",
        "# 모형 성능 평가 - 평가 지표 계산\n",
        "tree_report = metrics.classification_report(y_test, y_hat)\n",
        "print(tree_report)"
      ],
      "metadata": {
        "colab": {
          "base_uri": "https://localhost:8080/"
        },
        "id": "XNFCJ02SiR5W",
        "outputId": "cb7aa591-5044-4ace-96d7-b2d0856be047"
      },
      "execution_count": 13,
      "outputs": [
        {
          "output_type": "stream",
          "name": "stdout",
          "text": [
            "[[127   4]\n",
            " [  2  72]]\n",
            "\n",
            "\n",
            "              precision    recall  f1-score   support\n",
            "\n",
            "           2       0.98      0.97      0.98       131\n",
            "           4       0.95      0.97      0.96        74\n",
            "\n",
            "    accuracy                           0.97       205\n",
            "   macro avg       0.97      0.97      0.97       205\n",
            "weighted avg       0.97      0.97      0.97       205\n",
            "\n"
          ]
        }
      ]
    },
    {
      "cell_type": "code",
      "source": [
        ""
      ],
      "metadata": {
        "id": "AIXOMb6UqwbU"
      },
      "execution_count": null,
      "outputs": []
    }
  ]
}