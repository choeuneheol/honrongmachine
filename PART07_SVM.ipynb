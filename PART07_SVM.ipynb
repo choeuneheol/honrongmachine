{
  "nbformat": 4,
  "nbformat_minor": 0,
  "metadata": {
    "colab": {
      "name": "PART07 SVM.ipynb",
      "provenance": [],
      "authorship_tag": "ABX9TyN5K99euljcdcKPlL05Jbbb",
      "include_colab_link": true
    },
    "kernelspec": {
      "name": "python3",
      "display_name": "Python 3"
    },
    "language_info": {
      "name": "python"
    }
  },
  "cells": [
    {
      "cell_type": "markdown",
      "metadata": {
        "id": "view-in-github",
        "colab_type": "text"
      },
      "source": [
        "<a href=\"https://colab.research.google.com/github/choeuneheol/honrongmachine/blob/main/PART07_SVM.ipynb\" target=\"_parent\"><img src=\"https://colab.research.google.com/assets/colab-badge.svg\" alt=\"Open In Colab\"/></a>"
      ]
    },
    {
      "cell_type": "code",
      "execution_count": 1,
      "metadata": {
        "id": "agwmhB0LSHlu"
      },
      "outputs": [],
      "source": [
        "#-*- coding: utf-8 -*-\n",
        "\n",
        "### 기본 라이브러리 불러오기\n",
        "import pandas as pd\n",
        "import seaborn as sns"
      ]
    },
    {
      "cell_type": "markdown",
      "source": [
        "###[Step 1] 데이터 준비/기본 설정"
      ],
      "metadata": {
        "id": "jYE-mR9zS8TB"
      }
    },
    {
      "cell_type": "code",
      "source": [
        "# load_dataset 함수를 사용하여 데이터프레임으로 변환\n",
        "df = sns.load_dataset('titanic')\n",
        "\n",
        "# Ipython 디스플레이 설정 - 출력할 열의 개수 한도 늘리기\n",
        "pd.set_option('display.max_columns',15)"
      ],
      "metadata": {
        "id": "sLQPzs8uTFRv"
      },
      "execution_count": 2,
      "outputs": []
    },
    {
      "cell_type": "markdown",
      "source": [
        "###[Step 2] 데이터 탐색/전처리"
      ],
      "metadata": {
        "id": "BQHzihH4TkC8"
      }
    },
    {
      "cell_type": "code",
      "source": [
        "# NaN 값이 많은 deck 열 삭제, embarked와 내용이 겹치는 embark_town 열 삭제 \n",
        "rdf = df.drop(['deck','embark_town'],axis=1)\n",
        "\n",
        "# age 열에 나이 데이터가 없는 모든 행 삭제 - age 열 (891개 중 177개의 NaN 값)\n",
        "rdf = rdf.dropna(subset=['age'],how='any',axis=0)\n",
        "\n",
        "# embarked 열의 NaN 값을 승선도시 중에서 가장 많이 출현한 값으로 치환하기\n",
        "most_freq = rdf['embarked'].value_counts(dropna=True).idxmax()\n",
        "rdf['embarked'].fillna(most_freq, inplace=True)"
      ],
      "metadata": {
        "id": "5HfseY0dTqoh"
      },
      "execution_count": 3,
      "outputs": []
    },
    {
      "cell_type": "markdown",
      "source": [
        "###[Step 3] 분석에 사용할 속성 선택"
      ],
      "metadata": {
        "id": "N9OcHAmrVx1L"
      }
    },
    {
      "cell_type": "code",
      "source": [
        "#분석에 활용할 열(속성) 선택\n",
        "ndf = rdf[['survived','pclass','sex','age','sibsp','parch','embarked']]\n",
        "\n",
        "# 원핫인코딩 - 범주형 데이터를 모형이 인식할 수 있도록 숫자형으로 변환\n",
        "onehot_sex = pd.get_dummies(ndf['sex'])\n",
        "ndf = pd.concat([ndf,onehot_sex], axis=1)\n",
        "\n",
        "onehot_embarked = pd.get_dummies(ndf['embarked'], prefix='town')\n",
        "ndf = pd.concat([ndf, onehot_embarked], axis=1)\n",
        "\n",
        "ndf.drop(['sex','embarked'], axis=1, inplace=True)"
      ],
      "metadata": {
        "id": "Eji4NeupV3zK"
      },
      "execution_count": 4,
      "outputs": []
    },
    {
      "cell_type": "markdown",
      "source": [
        "###[Step 4] 데이터셋 구분 - 훈련용(train data) / 검증용(test data)"
      ],
      "metadata": {
        "id": "Yqur3sgTXE5N"
      }
    },
    {
      "cell_type": "code",
      "source": [
        "# 속성(변수) 선택\n",
        "x=ndf[['pclass','age','sibsp','parch','female','male',\n",
        "       'town_C','town_Q','town_S']]     # 독립 변수 x\n",
        "y=ndf['survived']                       # 종속 변수 y\n",
        "\n",
        "#설명 변수 데이터를 정규화(normalization)\n",
        "from sklearn import preprocessing\n",
        "x = preprocessing.StandardScaler().fit(x).transform(x)\n",
        "\n",
        "# train data 와 test data로 구분 (7:3 비율)\n",
        "from sklearn.model_selection import train_test_split\n",
        "x_train, x_test, y_train, y_test = train_test_split(x,y, test_size=0.3, random_state=10)\n",
        "\n",
        "print('train data 개수:', x_train.shape)\n",
        "print('test data 개수:', x_test.shape)"
      ],
      "metadata": {
        "colab": {
          "base_uri": "https://localhost:8080/"
        },
        "id": "QlduWb-mXPbN",
        "outputId": "4405839e-b8ae-4326-feb2-844baefe08b2"
      },
      "execution_count": 5,
      "outputs": [
        {
          "output_type": "stream",
          "name": "stdout",
          "text": [
            "train data 개수: (499, 9)\n",
            "test data 개수: (215, 9)\n"
          ]
        }
      ]
    },
    {
      "cell_type": "markdown",
      "source": [
        "###[Step 5] SVM 분류 모형 - sklearn 사용"
      ],
      "metadata": {
        "id": "7Kb464CaY2Me"
      }
    },
    {
      "cell_type": "code",
      "source": [
        "# sklearn 라이브러리에서 SVM 분류 몸형 가져오기\n",
        "from sklearn import svm\n",
        "\n",
        "# 모형 객체 생성(kernel='rbf' 적용)\n",
        "svm_model = svm.SVC(kernel='rbf')\n",
        "\n",
        "#train data를 가지고 모형 학습\n",
        "svm_model.fit(x_train, y_train)\n",
        "\n",
        "#test data를 가지고 y_hat 예측(분류)\n",
        "y_hat = svm_model.predict(x_test)\n",
        "\n",
        "print(y_hat[0:10])\n",
        "print(y_test.values[0:10])"
      ],
      "metadata": {
        "colab": {
          "base_uri": "https://localhost:8080/"
        },
        "id": "_7kv3nQxZFHO",
        "outputId": "a5e4a2df-1fb1-4bf4-abb0-a7d185ab696b"
      },
      "execution_count": 6,
      "outputs": [
        {
          "output_type": "stream",
          "name": "stdout",
          "text": [
            "[0 0 1 0 0 0 1 0 0 0]\n",
            "[0 0 1 0 0 1 1 1 0 0]\n"
          ]
        }
      ]
    },
    {
      "cell_type": "code",
      "source": [
        "# 모형 성능 평가 - Confusion Matrix 계산\n",
        "from sklearn import metrics\n",
        "svm_matrix = metrics.confusion_matrix(y_test, y_hat)\n",
        "print(svm_matrix)\n",
        "print('\\n')\n",
        "\n",
        "# 모형 성능 평가 - 평가 지표 계산\n",
        "svm_report = metrics.classification_report(y_test, y_hat)\n",
        "print(svm_report)"
      ],
      "metadata": {
        "colab": {
          "base_uri": "https://localhost:8080/"
        },
        "id": "THLhR-GiaHt-",
        "outputId": "da3c2fa3-c74e-4ff9-8f48-16e8e23a954e"
      },
      "execution_count": 7,
      "outputs": [
        {
          "output_type": "stream",
          "name": "stdout",
          "text": [
            "[[120   5]\n",
            " [ 35  55]]\n",
            "\n",
            "\n",
            "              precision    recall  f1-score   support\n",
            "\n",
            "           0       0.77      0.96      0.86       125\n",
            "           1       0.92      0.61      0.73        90\n",
            "\n",
            "    accuracy                           0.81       215\n",
            "   macro avg       0.85      0.79      0.80       215\n",
            "weighted avg       0.83      0.81      0.81       215\n",
            "\n"
          ]
        }
      ]
    },
    {
      "cell_type": "code",
      "source": [
        ""
      ],
      "metadata": {
        "id": "_0hyYZBfa9Rk"
      },
      "execution_count": null,
      "outputs": []
    }
  ]
}