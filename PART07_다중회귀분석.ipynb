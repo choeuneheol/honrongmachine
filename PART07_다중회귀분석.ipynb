{
  "nbformat": 4,
  "nbformat_minor": 0,
  "metadata": {
    "colab": {
      "name": "PART07-다중회귀분석.ipynb",
      "provenance": [],
      "authorship_tag": "ABX9TyNXcE9ehZoClRHd7+sbW7kF",
      "include_colab_link": true
    },
    "kernelspec": {
      "name": "python3",
      "display_name": "Python 3"
    },
    "language_info": {
      "name": "python"
    }
  },
  "cells": [
    {
      "cell_type": "markdown",
      "metadata": {
        "id": "view-in-github",
        "colab_type": "text"
      },
      "source": [
        "<a href=\"https://colab.research.google.com/github/choeuneheol/honrongmachine/blob/main/PART07_%EB%8B%A4%EC%A4%91%ED%9A%8C%EA%B7%80%EB%B6%84%EC%84%9D.ipynb\" target=\"_parent\"><img src=\"https://colab.research.google.com/assets/colab-badge.svg\" alt=\"Open In Colab\"/></a>"
      ]
    },
    {
      "cell_type": "code",
      "execution_count": 2,
      "metadata": {
        "id": "-7sUo8Wx69ly"
      },
      "outputs": [],
      "source": [
        "#-*- coding: utf-8 -*-\n",
        "\n",
        "### 기본 라이브러리 불러오기\n",
        "import pandas as pd\n",
        "import numpy as np\n",
        "import matplotlib.pyplot as plt\n",
        "import seaborn as sns"
      ]
    },
    {
      "cell_type": "code",
      "source": [
        "###[Step 1-3] 데이터 준비\n",
        "\n",
        "# CSV 파일을 데이터프레임으로 변환\n",
        "df = pd.read_csv('/content/auto_mpg.csv',header=None)\n",
        "                \n",
        "# 열 이름 지정\n",
        "df.columns = ['mpg','cylinders','displacement','horsepower','weight',\n",
        "              'acceleration','model year','origin','name']\n",
        "\n",
        "# horsepower 열의 자료형 변경(문자열 -> 숫자)\n",
        "df['horsepower'].replace('?', np.nan,inplace=True)     #'?'을 np.nan으로 변경\n",
        "df.dropna(subset=['horsepower'], axis=0, inplace=True) #누락데이터 행 삭제\n",
        "df['horsepower'] = df['horsepower'].astype('float')    #문자열을 실수형으로 전환\n",
        "\n",
        "# 분석에 활용할 열(속성) 선택(연비, 실린더, 출력, 중량)\n",
        "ndf= df[['mpg','cylinders','horsepower','weight']]"
      ],
      "metadata": {
        "id": "5twStAcl7o97"
      },
      "execution_count": 10,
      "outputs": []
    },
    {
      "cell_type": "markdown",
      "source": [
        "###[Step4] 데이터셋 구분 - 훈련용(train data)/검증용(test data)"
      ],
      "metadata": {
        "id": "rLzTvbCv9mjS"
      }
    },
    {
      "cell_type": "code",
      "source": [
        "#속성(변수) 선택\n",
        "x=ndf[['cylinders','horsepower','weight']] # 독립 변수 x1, x2, x3\n",
        "y=ndf['mpg'] #종족 변수 Y\n",
        "\n",
        "# train data와 test data로 구분(7:3 비율)\n",
        "from sklearn.model_selection import train_test_split\n",
        "x_train, x_test, y_train, y_test = train_test_split(x,y, test_size=0.3,random_state=10)\n",
        "\n",
        "\n",
        "print('훈련 데이터:', x_train.shape)\n",
        "print('검증 데이터:', x_test.shape)\n",
        "            "
      ],
      "metadata": {
        "colab": {
          "base_uri": "https://localhost:8080/"
        },
        "id": "d9tw86o9-33I",
        "outputId": "d0b71751-5e12-41f3-fb43-38a471ef2bc4"
      },
      "execution_count": 15,
      "outputs": [
        {
          "output_type": "stream",
          "name": "stdout",
          "text": [
            "훈련 데이터: (274, 3)\n",
            "검증 데이터: (118, 3)\n"
          ]
        }
      ]
    },
    {
      "cell_type": "markdown",
      "source": [
        "###[Step 5] 단순회귀분석 모형 - sklearn 사용"
      ],
      "metadata": {
        "id": "wsXG7WwyA33_"
      }
    },
    {
      "cell_type": "code",
      "source": [
        "#sklearn 라이브러리에서 선형회귀분석 모듈 가져오기\n",
        "from sklearn.linear_model import LinearRegression\n",
        "\n",
        "# 단순회귀분석 모형 객체 생성\n",
        "lr = LinearRegression()\n",
        "\n",
        "# train data를 가지고 모형 학습\n",
        "lr.fit(x_train, y_train)\n",
        "\n",
        "# 학습을 마친 모형에 test data를 적용하여 결정계수 (R-제곱) 계산\n",
        "r_square = lr.score(x_test, y_test)\n",
        "print(r_square)\n",
        "print('\\n')\n",
        "\n",
        "#회귀식의 기울기\n",
        "print('x 변수의 계수 a:',lr.coef_)\n",
        "print('\\n')\n",
        "\n",
        "#회귀식의 y절편\n",
        "print('상수항 b',lr.intercept_)"
      ],
      "metadata": {
        "colab": {
          "base_uri": "https://localhost:8080/"
        },
        "id": "tx92mdztGIip",
        "outputId": "ba3925cf-8435-4392-b0bc-240cc3c59d2b"
      },
      "execution_count": 16,
      "outputs": [
        {
          "output_type": "stream",
          "name": "stdout",
          "text": [
            "0.6939048496695599\n",
            "\n",
            "\n",
            "x 변수의 계수 a: [-0.60691288 -0.03714088 -0.00522268]\n",
            "\n",
            "\n",
            "상수항 b 46.414351269634025\n"
          ]
        }
      ]
    },
    {
      "cell_type": "code",
      "source": [
        "# train data의 산점도와 test data로 예측한 회귀선을 그래프로 출현\n",
        "y_hat = lr.predict(x_test)\n",
        "\n",
        "plt.figure(figsize=(10,5))\n",
        "ax1 = sns.kdeplot (y_test, label='y_test')\n",
        "ax2 = sns.kdeplot (y_hat, label=\"y_hat\", ax=ax1)\n",
        "plt.legend()\n",
        "plt.show()"
      ],
      "metadata": {
        "colab": {
          "base_uri": "https://localhost:8080/",
          "height": 335
        },
        "id": "qI7hka8zHf6x",
        "outputId": "8f79147e-87b2-42bb-c2a2-1d9fb0839a4d"
      },
      "execution_count": 17,
      "outputs": [
        {
          "output_type": "display_data",
          "data": {
            "text/plain": [
              "<Figure size 720x360 with 1 Axes>"
            ],
            "image/png": "[encoded data removed]"
          },
          "metadata": {
            "needs_background": "light"
          }
        }
      ]
    },
    {
      "cell_type": "code",
      "source": [
        ""
      ],
      "metadata": {
        "id": "OXk09UBpIOL_"
      },
      "execution_count": null,
      "outputs": []
    }
  ]
}