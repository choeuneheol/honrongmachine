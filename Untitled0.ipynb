{
  "nbformat": 4,
  "nbformat_minor": 0,
  "metadata": {
    "colab": {
      "name": "Untitled0.ipynb",
      "provenance": [],
      "authorship_tag": "ABX9TyOf/Wd65hm7oqIK5B2u8RvA",
      "include_colab_link": true
    },
    "kernelspec": {
      "name": "python3",
      "display_name": "Python 3"
    },
    "language_info": {
      "name": "python"
    }
  },
  "cells": [
    {
      "cell_type": "markdown",
      "metadata": {
        "id": "view-in-github",
        "colab_type": "text"
      },
      "source": [
        "<a href=\"https://colab.research.google.com/github/choeuneheol/honrongmachine/blob/main/Untitled0.ipynb\" target=\"_parent\"><img src=\"https://colab.research.google.com/assets/colab-badge.svg\" alt=\"Open In Colab\"/></a>"
      ]
    },
    {
      "cell_type": "markdown",
      "source": [
        "4th\n",
        "\n",
        "오차+가중치를 더해주면된다\n",
        "\n"
      ],
      "metadata": {
        "id": "WUv6ylN_3Kcl"
      }
    },
    {
      "cell_type": "code",
      "source": [
        "5th\n",
        "\n",
        "신경망에서의 오차는 복잡하게해서 나오게된다\n",
        "\n",
        "오차가 발생하면 하나를 수정하면 나머지 노드의 가중치 모두에 영향\n",
        "\n",
        "가중치 업데이트 때문에 상당히 오래걸림 \n",
        "\n",
        "경가하강법(Gradient descent)\n",
        "\n",
        "전체륾 못보니 범위를 좁혀서 최적의 데이터를 찾아라\n",
        "\n",
        "경가하강법과 신경망의 연관성은?\n",
        "\n",
        "좌상향은 음의기울기이기때문에 왼쪽에 위치해있고\n",
        "\n",
        "우상향은 양의기울기이기때문에 오른쪽에 위치해있다.\n",
        "\n",
        "기울기를 구했는데 0이 나온다면 최소값에 도달한것\n",
        "\n",
        "보폭을 줄이기 위해서 여러번 돌려서 찾아야한다.\n",
        "\n",
        "최저점에 가까울수록 기울기가 완만해짐\n",
        "\n",
        "많은 파라미터를 가지고 있는 함수인 경우\n",
        "\n",
        "여러 곳의 계곡이 있어 혹시 다른 곳으로 갈 수 있다\n",
        "\n",
        "Local minima 각각 다른 출발위치에서 시작해 \n",
        "\n",
        "실험을 여러번 하는 것으로 해결 \n",
        "\n",
        "가중치의 초기값을 다르게 줘야한다.\n",
        "\n",
        "신경망 주의사항 \n",
        "\n",
        "분석가가 여러가지 방도로 생각해야함\n",
        "\n",
        "입력값이 커지게되면 학습이 급격히 떨어지게된다\n",
        "\n",
        "0.0 ~ 1.0 사이의 값이 오도록 조정을 해야함\n",
        "\n",
        "입력값에 0에 넣으면 안된다 최소한 0.01같은 작은 \n",
        "\n",
        "값을 더해 0이 들어오는 것을 막아야함\n"
      ],
      "metadata": {
        "id": "rL_An5-M4rT1"
      },
      "execution_count": null,
      "outputs": []
    }
  ]
}