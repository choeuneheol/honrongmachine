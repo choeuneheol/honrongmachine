{
  "nbformat": 4,
  "nbformat_minor": 0,
  "metadata": {
    "colab": {
      "name": "딥러닝기초DAY8.ipynb",
      "provenance": [],
      "authorship_tag": "ABX9TyMXD9FIkgE8iGphBULVISnU",
      "include_colab_link": true
    },
    "kernelspec": {
      "name": "python3",
      "display_name": "Python 3"
    },
    "language_info": {
      "name": "python"
    }
  },
  "cells": [
    {
      "cell_type": "markdown",
      "metadata": {
        "id": "view-in-github",
        "colab_type": "text"
      },
      "source": [
        "<a href=\"https://colab.research.google.com/github/choeuneheol/honrongmachine/blob/main/%EB%94%A5%EB%9F%AC%EB%8B%9D%EA%B8%B0%EC%B4%88DAY8.ipynb\" target=\"_parent\"><img src=\"https://colab.research.google.com/assets/colab-badge.svg\" alt=\"Open In Colab\"/></a>"
      ]
    },
    {
      "cell_type": "markdown",
      "source": [
        "4th \n",
        "\n",
        "Artficial Neural Network\n",
        "\n",
        "작동원리\n",
        "\n",
        "연결선위에는 가중치가 걸려있다\n",
        "\n",
        "퍼셉트론에서는 내것만 가져오면된다\n",
        "\n",
        "연결되어있는 것들이 바뀌면 나머지도 다바뀐다\n",
        "\n",
        "노드간의 연결 강도 조정이 필요하다 <- 가중치 조절이 필요하다\n",
        "\n",
        "앞으로 쭉 오는 것을 순전파라고 한다\n",
        "\n",
        "오차를 계산해서 가중치를 업데이트 \n",
        "\n",
        "선형분류모델은 기울기가 하나인데\n",
        "\n",
        "가중치에 비례해서 전달해야한다\n",
        "\n",
        "이를 error backpropagation 이다\n",
        "\n",
        "오차를 역전파 하는 것이다\n",
        "\n",
        "히든레이어는 타겟벨류가 없어서 오차를 못구한다\n",
        "\n",
        "대신에 연결된 오차를 재조합하여 은닉계층의 노드 에러로 사용한다\n",
        "\n",
        "분자가 큰아이가 오차를 많이 가져온다\n",
        "\n",
        "가중치라는 개념은 앞으로 쭉 개념할떄도 가중치를 쓰고\n",
        "\n",
        "역전파할때도 쓴다 가중치가 갈때한번 올때한번 참여한다\n",
        "\n",
        "히든레이어에서 오차계산이 끝이난다\n"
      ],
      "metadata": {
        "id": "uYokFxB-8-EU"
      }
    },
    {
      "cell_type": "markdown",
      "source": [
        "5th\n",
        "\n",
        "오차를 기반으로 가중치 업데이트\n",
        "\n",
        "가중치업데이트를 풀어주는 함수식이 있다..\n",
        "\n",
        "Gradient descent 경사하강법\n",
        "\n",
        "어느방향에 있는지 알수 없기 떄문에 \n",
        "\n",
        "좌상향은 음의기울기\n",
        "\n",
        "우상향은 양의기울기\n",
        "\n",
        "기울기랑 반대되는 곳으로 움직인다\n",
        "\n",
        "오차를 줄어드는 방향으로 찾아간다\n",
        "\n",
        "기울기가 0되면 최저점이라고 보면된다\n",
        "\n",
        "보폭을 많이 하면 안되면 조금씩줄여가면서 해야한다\n",
        "\n",
        "뾰족한부분은 미분을 할수 없어서 구할수 없음\n",
        "\n",
        "y축은 오차 x축은 \n",
        "\n",
        "가중치의 변화에 따라서 오차는 얼마나 변하는가?\n",
        "\n",
        "오차를 가중치에 대해서 미분하세요.\n",
        "\n",
        "오차함수는 델타a 구하는 것이랑 똑같다 \n",
        "\n",
        "입력데이터는 0이 들어오면 안된다\n",
        "\n"
      ],
      "metadata": {
        "id": "HR9QKP7pEp1m"
      }
    },
    {
      "cell_type": "markdown",
      "source": [
        "6th\n",
        "\n",
        "입력벡터와 가중치의합을 활성함수를 통과시켜야하는데 시그모이드 함수를\n",
        "\n",
        "쓰는데 파이썬에는 시그모이드 함수가 없다\n",
        "\n",
        "scipy.special.expit<- 시그모이드함수\n"
      ],
      "metadata": {
        "id": "xbLtPwm6Rs_s"
      }
    },
    {
      "cell_type": "markdown",
      "source": [
        "9th\n",
        "\n",
        "스트림? 강? 물이 흐르는 물길 \n",
        "\n",
        "내가 다른 디바이스에 접근하기위해 필요한 통로\n",
        "\n",
        "최대값이 들어있는 인덱스를 가져오는게 arx\n",
        "\n"
      ],
      "metadata": {
        "id": "_Pl5Tr4-ea4f"
      }
    },
    {
      "cell_type": "markdown",
      "source": [
        "10th\n",
        "\n",
        "딥러닝도 하나의 신경망\n",
        "\n",
        "신경망의 성능을 올릴때 \n",
        "\n",
        "학습의 성능은 히든레이어에서 일어난다\n",
        "\n",
        "히든레이어 노드의 개수의 따라 성능이 달라진다\n",
        "\n",
        "무작정 올리는것도 또 올라가진 않는다\n",
        "\n",
        "히든레이어를 더 늘린다면 성능이 더 좋아지지 않을까?\n",
        "\n",
        "포화상태로 들어가면 성능X 근데 포화상태로 들어갔는지\n",
        "\n",
        "안들어갔는지 모름\n",
        "\n",
        "딥러닝에서는 활성함수를 사용한다\n",
        "\n",
        "ReLU모델을 사용한다\n",
        "\n",
        "tanh 함수,(Hyperbolic tangent function)\n",
        "\n",
        "출력범위가 더 넓다 -1 ~ 1이다\n",
        "\n",
        "그렇기 때문에 더 많이 출력할 수 있다.\n",
        "\n",
        "0과 1을 넘어가면 안된다는 단점이있다\n",
        "\n",
        "Leakly ReLU\n",
        "\n",
        "0이하는 0으로 출력\n",
        "\n",
        "구현이 간단하다\n",
        "\n",
        "x<0인 지점에서는 기울기가 0이기\n",
        "\n",
        "때문에 해당지점에서의 뉴런들이 죽는다\n",
        "\n",
        "Exponential Linear Unit(ELU)\n",
        "\n",
        "지수 함수를 이용하여 입력이 0 이하일 경우 부드럽게 깎아줍니다. \n",
        "\n",
        "미분 함수가 끊어지지 않고 이어져있는 형태를 보입니다. \n",
        "\n",
        "별도의 알파 값을 파라미터로 받는데 일반적으로 1로 설정됩니다.\n",
        "\n",
        "Maxout 함수\n",
        "\n",
        "이 함수는 두 선형 식으로 구성되어 있기 때문에 기울기 소멸 문제가 발생하지 않습니다. \n",
        "\n",
        "하지만 학습해야 하는 모수의 수가 증가하는 한계점을 가지고 있습니다.\n"
      ],
      "metadata": {
        "id": "d96u-ozeNQir"
      }
    }
  ]
}