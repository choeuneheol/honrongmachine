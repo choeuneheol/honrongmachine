{
  "nbformat": 4,
  "nbformat_minor": 0,
  "metadata": {
    "colab": {
      "name": "PART07-분류.ipynb",
      "provenance": [],
      "authorship_tag": "ABX9TyNJm1kPLqS/mR70KKgk5gId",
      "include_colab_link": true
    },
    "kernelspec": {
      "name": "python3",
      "display_name": "Python 3"
    },
    "language_info": {
      "name": "python"
    }
  },
  "cells": [
    {
      "cell_type": "markdown",
      "metadata": {
        "id": "view-in-github",
        "colab_type": "text"
      },
      "source": [
        "<a href=\"https://colab.research.google.com/github/choeuneheol/honrongmachine/blob/main/PART07_%EB%B6%84%EB%A5%98.ipynb\" target=\"_parent\"><img src=\"https://colab.research.google.com/assets/colab-badge.svg\" alt=\"Open In Colab\"/></a>"
      ]
    },
    {
      "cell_type": "code",
      "execution_count": 1,
      "metadata": {
        "id": "neatJwF-JG1A"
      },
      "outputs": [],
      "source": [
        "#-*- coding: utf-8 -*-\n",
        "\n",
        "### 기본 라잉브러리 불러오기\n",
        "import pandas as pd\n",
        "import seaborn as sns"
      ]
    },
    {
      "cell_type": "markdown",
      "source": [
        "###[Step 1] 데이터 준비 - Seaborn에서 제공하는 titanic 데이터셋 가져오기"
      ],
      "metadata": {
        "id": "N_ADGawIJkrB"
      }
    },
    {
      "cell_type": "code",
      "source": [
        "#load_dataset 함수를 사용하여 데이터프레임으로 변환\n",
        "df = sns.load_dataset('titanic')\n",
        "\n",
        "# 데이터 살펴보기\n",
        "print(df.head())\n",
        "print('\\n')\n",
        "\n",
        "# Ipython 디스플레이 설정 - 출력할 열의 개수 한도 늘리기\n",
        "pd.set_option('display.max_columns',15)\n",
        "print(df.head())"
      ],
      "metadata": {
        "colab": {
          "base_uri": "https://localhost:8080/"
        },
        "id": "cfscHMM1JwdW",
        "outputId": "6d398df6-75c3-4196-ab32-14cc4c5c5667"
      },
      "execution_count": 2,
      "outputs": [
        {
          "output_type": "stream",
          "name": "stdout",
          "text": [
            "   survived  pclass     sex   age  sibsp  parch     fare embarked  class  \\\n",
            "0         0       3    male  22.0      1      0   7.2500        S  Third   \n",
            "1         1       1  female  38.0      1      0  71.2833        C  First   \n",
            "2         1       3  female  26.0      0      0   7.9250        S  Third   \n",
            "3         1       1  female  35.0      1      0  53.1000        S  First   \n",
            "4         0       3    male  35.0      0      0   8.0500        S  Third   \n",
            "\n",
            "     who  adult_male deck  embark_town alive  alone  \n",
            "0    man        True  NaN  Southampton    no  False  \n",
            "1  woman       False    C    Cherbourg   yes  False  \n",
            "2  woman       False  NaN  Southampton   yes   True  \n",
            "3  woman       False    C  Southampton   yes  False  \n",
            "4    man        True  NaN  Southampton    no   True  \n",
            "\n",
            "\n",
            "   survived  pclass     sex   age  sibsp  parch     fare embarked  class  \\\n",
            "0         0       3    male  22.0      1      0   7.2500        S  Third   \n",
            "1         1       1  female  38.0      1      0  71.2833        C  First   \n",
            "2         1       3  female  26.0      0      0   7.9250        S  Third   \n",
            "3         1       1  female  35.0      1      0  53.1000        S  First   \n",
            "4         0       3    male  35.0      0      0   8.0500        S  Third   \n",
            "\n",
            "     who  adult_male deck  embark_town alive  alone  \n",
            "0    man        True  NaN  Southampton    no  False  \n",
            "1  woman       False    C    Cherbourg   yes  False  \n",
            "2  woman       False  NaN  Southampton   yes   True  \n",
            "3  woman       False    C  Southampton   yes  False  \n",
            "4    man        True  NaN  Southampton    no   True  \n"
          ]
        }
      ]
    },
    {
      "cell_type": "markdown",
      "source": [
        "###[Step 2] - 데이터 탐색"
      ],
      "metadata": {
        "id": "kHxPqqbhKVkb"
      }
    },
    {
      "cell_type": "code",
      "source": [
        "# 데이터 자료형 확인\n",
        "print(df.info())"
      ],
      "metadata": {
        "colab": {
          "base_uri": "https://localhost:8080/"
        },
        "id": "H4sWj0WMKeSH",
        "outputId": "df76f4bf-6a0d-43e9-c4b4-a6cc12b53509"
      },
      "execution_count": 3,
      "outputs": [
        {
          "output_type": "stream",
          "name": "stdout",
          "text": [
            "<class 'pandas.core.frame.DataFrame'>\n",
            "RangeIndex: 891 entries, 0 to 890\n",
            "Data columns (total 15 columns):\n",
            " #   Column       Non-Null Count  Dtype   \n",
            "---  ------       --------------  -----   \n",
            " 0   survived     891 non-null    int64   \n",
            " 1   pclass       891 non-null    int64   \n",
            " 2   sex          891 non-null    object  \n",
            " 3   age          714 non-null    float64 \n",
            " 4   sibsp        891 non-null    int64   \n",
            " 5   parch        891 non-null    int64   \n",
            " 6   fare         891 non-null    float64 \n",
            " 7   embarked     889 non-null    object  \n",
            " 8   class        891 non-null    category\n",
            " 9   who          891 non-null    object  \n",
            " 10  adult_male   891 non-null    bool    \n",
            " 11  deck         203 non-null    category\n",
            " 12  embark_town  889 non-null    object  \n",
            " 13  alive        891 non-null    object  \n",
            " 14  alone        891 non-null    bool    \n",
            "dtypes: bool(2), category(2), float64(2), int64(4), object(5)\n",
            "memory usage: 80.7+ KB\n",
            "None\n"
          ]
        }
      ]
    },
    {
      "cell_type": "code",
      "source": [
        "#NaN 값이 많은 deck 열 삭제, embarked의 내용이 겹치는 embark_town 열 삭제\n",
        "rdf = df.drop(['deck','embark_town'],axis=1)\n",
        "print(rdf.columns.values)"
      ],
      "metadata": {
        "colab": {
          "base_uri": "https://localhost:8080/"
        },
        "id": "DBpUppb4Kkws",
        "outputId": "0c04224d-293d-4dbc-93b4-ea5dda0009c0"
      },
      "execution_count": 4,
      "outputs": [
        {
          "output_type": "stream",
          "name": "stdout",
          "text": [
            "['survived' 'pclass' 'sex' 'age' 'sibsp' 'parch' 'fare' 'embarked' 'class'\n",
            " 'who' 'adult_male' 'alive' 'alone']\n"
          ]
        }
      ]
    },
    {
      "cell_type": "code",
      "source": [
        "# age 열에 나이 데이터가 없는 모든 행 삭제 - age 열(891개 중 177개의 NaN 값)\n",
        "rdf = rdf.dropna(subset=['age'], how='any',axis=0)\n",
        "print(len(rdf))"
      ],
      "metadata": {
        "colab": {
          "base_uri": "https://localhost:8080/"
        },
        "id": "3N6rqRMKK8Vb",
        "outputId": "82fd2aed-fb60-4865-ed17-65997aa3d88d"
      },
      "execution_count": 5,
      "outputs": [
        {
          "output_type": "stream",
          "name": "stdout",
          "text": [
            "714\n"
          ]
        }
      ]
    },
    {
      "cell_type": "code",
      "source": [
        "#embarked 열의 NaN 값을 승선도시 중에서 가장 많이 출현한 값으로 치환하기\n",
        "most_freq = rdf['embarked'].value_counts(dropna=True).idxmax()\n",
        "print(most_freq)\n",
        "print('\\n')\n",
        "\n",
        "print(rdf.describe(include='all'))\n",
        "print('\\n')\n",
        "\n",
        "rdf['embarked'].fillna(most_freq, inplace=True)"
      ],
      "metadata": {
        "colab": {
          "base_uri": "https://localhost:8080/"
        },
        "id": "aFR9VzR_LUfG",
        "outputId": "d26b6859-2769-47a1-db2e-b724f73e26a9"
      },
      "execution_count": 6,
      "outputs": [
        {
          "output_type": "stream",
          "name": "stdout",
          "text": [
            "S\n",
            "\n",
            "\n",
            "          survived      pclass   sex         age       sibsp       parch  \\\n",
            "count   714.000000  714.000000   714  714.000000  714.000000  714.000000   \n",
            "unique         NaN         NaN     2         NaN         NaN         NaN   \n",
            "top            NaN         NaN  male         NaN         NaN         NaN   \n",
            "freq           NaN         NaN   453         NaN         NaN         NaN   \n",
            "mean      0.406162    2.236695   NaN   29.699118    0.512605    0.431373   \n",
            "std       0.491460    0.838250   NaN   14.526497    0.929783    0.853289   \n",
            "min       0.000000    1.000000   NaN    0.420000    0.000000    0.000000   \n",
            "25%       0.000000    1.000000   NaN   20.125000    0.000000    0.000000   \n",
            "50%       0.000000    2.000000   NaN   28.000000    0.000000    0.000000   \n",
            "75%       1.000000    3.000000   NaN   38.000000    1.000000    1.000000   \n",
            "max       1.000000    3.000000   NaN   80.000000    5.000000    6.000000   \n",
            "\n",
            "              fare embarked  class  who adult_male alive alone  \n",
            "count   714.000000      712    714  714        714   714   714  \n",
            "unique         NaN        3      3    3          2     2     2  \n",
            "top            NaN        S  Third  man       True    no  True  \n",
            "freq           NaN      554    355  413        413   424   404  \n",
            "mean     34.694514      NaN    NaN  NaN        NaN   NaN   NaN  \n",
            "std      52.918930      NaN    NaN  NaN        NaN   NaN   NaN  \n",
            "min       0.000000      NaN    NaN  NaN        NaN   NaN   NaN  \n",
            "25%       8.050000      NaN    NaN  NaN        NaN   NaN   NaN  \n",
            "50%      15.741700      NaN    NaN  NaN        NaN   NaN   NaN  \n",
            "75%      33.375000      NaN    NaN  NaN        NaN   NaN   NaN  \n",
            "max     512.329200      NaN    NaN  NaN        NaN   NaN   NaN  \n",
            "\n",
            "\n"
          ]
        }
      ]
    },
    {
      "cell_type": "markdown",
      "source": [
        "###[Step 3] - 속성 선택"
      ],
      "metadata": {
        "id": "sNL3R4IaMCxM"
      }
    },
    {
      "cell_type": "code",
      "source": [
        "# 분석에 활용할 일(속성) 선택\n",
        "ndf = rdf[['survived','pclass','sex','age','sibsp','parch','embarked']]\n",
        "print(ndf.head())"
      ],
      "metadata": {
        "colab": {
          "base_uri": "https://localhost:8080/"
        },
        "id": "PtVlfIkEMRXy",
        "outputId": "e218a7de-ef70-4b79-a8ff-b4a44b1646f2"
      },
      "execution_count": 7,
      "outputs": [
        {
          "output_type": "stream",
          "name": "stdout",
          "text": [
            "   survived  pclass     sex   age  sibsp  parch embarked\n",
            "0         0       3    male  22.0      1      0        S\n",
            "1         1       1  female  38.0      1      0        C\n",
            "2         1       3  female  26.0      0      0        S\n",
            "3         1       1  female  35.0      1      0        S\n",
            "4         0       3    male  35.0      0      0        S\n"
          ]
        }
      ]
    },
    {
      "cell_type": "code",
      "source": [
        "# 원핫인코딩 - 범주형 데이터를 모형이 인식할 수 있도록 숫자형으로 변환\n",
        "onehot_sex = pd.get_dummies(ndf['sex'])\n",
        "ndf = pd.concat([ndf, onehot_sex], axis=1)\n",
        "onehot_embarked = pd.get_dummies(ndf['embarked'], prefix='town')\n",
        "ndf = pd.concat([ndf, onehot_embarked], axis=1)\n",
        "\n",
        "ndf.drop(['sex','embarked'], axis=1, inplace=True)\n",
        "print(ndf.head())"
      ],
      "metadata": {
        "colab": {
          "base_uri": "https://localhost:8080/"
        },
        "id": "-PIzfi5cMlRH",
        "outputId": "db8d249a-7018-41d7-c818-0511bc671dc5"
      },
      "execution_count": 8,
      "outputs": [
        {
          "output_type": "stream",
          "name": "stdout",
          "text": [
            "   survived  pclass   age  sibsp  parch  female  male  town_C  town_Q  town_S\n",
            "0         0       3  22.0      1      0       0     1       0       0       1\n",
            "1         1       1  38.0      1      0       1     0       1       0       0\n",
            "2         1       3  26.0      0      0       1     0       0       0       1\n",
            "3         1       1  35.0      1      0       1     0       0       0       1\n",
            "4         0       3  35.0      0      0       0     1       0       0       1\n"
          ]
        }
      ]
    },
    {
      "cell_type": "markdown",
      "source": [
        "###[Step 4] - 훈련/검증 데이터 분할"
      ],
      "metadata": {
        "id": "LG_XXz8XNmUz"
      }
    },
    {
      "cell_type": "code",
      "source": [
        "# 속성(변수) 선택\n",
        "x=ndf[['pclass','age','sibsp','parch','female','male',\n",
        "       'town_C','town_Q','town_S']]   # 설명 변수 x\n",
        "y=ndf['survived']                     # 예측 변수 y\n",
        "\n",
        "# 설명 변수 데이터를 정규화 (normalization)\n",
        "from sklearn import preprocessing\n",
        "x = preprocessing.StandardScaler().fit(x).transform(x)\n",
        "\n",
        "# train data와 test data로 구분 (7:3 비율)\n",
        "from sklearn.model_selection import train_test_split\n",
        "x_train, x_test, y_train, y_test = train_test_split(x,y, test_size=0.3, random_state=10)\n",
        "\n",
        "print('train data 개수:', x_train.shape)\n",
        "print('train data 개수:', x_test.shape)"
      ],
      "metadata": {
        "colab": {
          "base_uri": "https://localhost:8080/"
        },
        "id": "VxNvNjQONtzE",
        "outputId": "5998c41d-5696-45a5-8437-5aac46cf9a83"
      },
      "execution_count": 13,
      "outputs": [
        {
          "output_type": "stream",
          "name": "stdout",
          "text": [
            "train data 개수: (499, 9)\n",
            "train data 개수: (215, 9)\n"
          ]
        }
      ]
    },
    {
      "cell_type": "markdown",
      "source": [
        "###[Step 5] - 모형 학습 및 검증"
      ],
      "metadata": {
        "id": "QW7cU1HQOfZL"
      }
    },
    {
      "cell_type": "code",
      "source": [
        "#sklearn 라이브러리에서 KNN 분류 모형 가져오기\n",
        "from sklearn.neighbors import KNeighborsClassifier\n",
        "\n",
        "# 모형 객체 생성(k=5로 설정)\n",
        "knn = KNeighborsClassifier(n_neighbors=5)\n",
        "\n",
        "# train data를 가지고 모형 학습\n",
        "knn.fit(x_train, y_train)\n",
        "\n",
        "# test data를 가지고 y_hat을 예측(분류)\n",
        "y_hat = knn.predict(x_test)\n",
        "\n",
        "print(y_hat[0:10])\n",
        "print(y_test.values[0:10])"
      ],
      "metadata": {
        "colab": {
          "base_uri": "https://localhost:8080/"
        },
        "id": "sfiIRB0PP70B",
        "outputId": "03b3d7ab-a287-4497-ea01-f0361d2666ea"
      },
      "execution_count": 14,
      "outputs": [
        {
          "output_type": "stream",
          "name": "stdout",
          "text": [
            "[0 0 1 0 0 1 1 1 0 0]\n",
            "[0 0 1 0 0 1 1 1 0 0]\n"
          ]
        }
      ]
    },
    {
      "cell_type": "code",
      "source": [
        "# 모형 성능 평가 - Confusin Matrix 계산\n",
        "from sklearn import metrics\n",
        "knn_matrix = metrics.confusion_matrix(y_test, y_hat)\n",
        "print(knn_matrix)"
      ],
      "metadata": {
        "colab": {
          "base_uri": "https://localhost:8080/"
        },
        "id": "WdrtOl_LQ5y1",
        "outputId": "c356ba28-b501-4fa2-a5dc-14c5ba7b7671"
      },
      "execution_count": 15,
      "outputs": [
        {
          "output_type": "stream",
          "name": "stdout",
          "text": [
            "[[111  14]\n",
            " [ 24  66]]\n"
          ]
        }
      ]
    },
    {
      "cell_type": "code",
      "source": [
        "# 모형 성능 평가 - 평가 지표 계산\n",
        "knn_report = metrics.classification_report(y_test, y_hat)\n",
        "print(knn_report)"
      ],
      "metadata": {
        "colab": {
          "base_uri": "https://localhost:8080/"
        },
        "id": "L9j-WTINRXPC",
        "outputId": "161d04d0-a531-4e9b-b32c-d87916af7674"
      },
      "execution_count": 16,
      "outputs": [
        {
          "output_type": "stream",
          "name": "stdout",
          "text": [
            "              precision    recall  f1-score   support\n",
            "\n",
            "           0       0.82      0.89      0.85       125\n",
            "           1       0.82      0.73      0.78        90\n",
            "\n",
            "    accuracy                           0.82       215\n",
            "   macro avg       0.82      0.81      0.82       215\n",
            "weighted avg       0.82      0.82      0.82       215\n",
            "\n"
          ]
        }
      ]
    },
    {
      "cell_type": "code",
      "source": [
        ""
      ],
      "metadata": {
        "id": "SyDCiY1dRsjD"
      },
      "execution_count": null,
      "outputs": []
    }
  ]
}